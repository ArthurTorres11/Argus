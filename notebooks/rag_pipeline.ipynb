{
 "cells": [
  {
   "cell_type": "code",
   "execution_count": 8,
   "id": "6c162bab",
   "metadata": {},
   "outputs": [],
   "source": [
    "import os\n",
    "from dotenv import load_dotenv\n",
    "\n",
    "from pathlib import Path\n",
    "from langchain_text_splitters import RecursiveCharacterTextSplitter\n",
    "from langchain_google_genai import GoogleGenerativeAIEmbeddings\n",
    "from langchain_community.document_loaders import TextLoader\n",
    "from langchain_chroma import Chroma"
   ]
  },
  {
   "cell_type": "code",
   "execution_count": 9,
   "id": "135428f1",
   "metadata": {},
   "outputs": [
    {
     "data": {
      "text/plain": [
       "True"
      ]
     },
     "execution_count": 9,
     "metadata": {},
     "output_type": "execute_result"
    }
   ],
   "source": [
    "load_dotenv()"
   ]
  },
  {
   "cell_type": "code",
   "execution_count": 10,
   "id": "6f7bb022",
   "metadata": {},
   "outputs": [],
   "source": [
    "config = {\n",
    "     \"INPUT_FOLDER\": os.getenv(\"INPUT_FOLDER\"),\n",
    "     \"GOOGLE_API_KEY\": os.getenv(\"GOOGLE_API_KEY\"),\n",
    "     \"CHROMA_DIR\": os.getenv(\"CHROMA_DIR\")\n",
    "}"
   ]
  },
  {
   "cell_type": "code",
   "execution_count": 11,
   "id": "293e1f33",
   "metadata": {},
   "outputs": [
    {
     "data": {
      "text/plain": [
       "'/home/arthur/argus/chroma'"
      ]
     },
     "execution_count": 11,
     "metadata": {},
     "output_type": "execute_result"
    }
   ],
   "source": [
    "os.getenv(\"CHROMA_DIR\")"
   ]
  },
  {
   "cell_type": "code",
   "execution_count": 12,
   "id": "85463139",
   "metadata": {},
   "outputs": [],
   "source": [
    "input_path = Path(config[\"INPUT_FOLDER\"])\n",
    "text_files = list(input_path.glob(\"*.txt\"))"
   ]
  },
  {
   "cell_type": "code",
   "execution_count": 13,
   "id": "0bff7732",
   "metadata": {},
   "outputs": [
    {
     "data": {
      "text/plain": [
       "[PosixPath('/home/arthur/argus/data/processed/Counterexample-Guided Repair of Reinforcement Learning Systems Using Safety Critics.txt'),\n",
       " PosixPath('/home/arthur/argus/data/processed/Some Insights into Lifelong Reinforcement Learning Systems.txt')]"
      ]
     },
     "execution_count": 13,
     "metadata": {},
     "output_type": "execute_result"
    }
   ],
   "source": [
    "text_files"
   ]
  },
  {
   "cell_type": "code",
   "execution_count": 14,
   "id": "4c91d008",
   "metadata": {},
   "outputs": [],
   "source": [
    "from langchain_google_genai import GoogleGenerativeAIEmbeddings"
   ]
  },
  {
   "cell_type": "code",
   "execution_count": 15,
   "id": "c49521a7",
   "metadata": {},
   "outputs": [],
   "source": [
    "embedding_model = GoogleGenerativeAIEmbeddings(\n",
    "    google_api_key=os.getenv(\"GOOGLE_API_KEY\"), \n",
    "    model=\"models/text-embedding-004\"\n",
    ")"
   ]
  },
  {
   "cell_type": "code",
   "execution_count": 16,
   "id": "f6d5a47c",
   "metadata": {},
   "outputs": [],
   "source": [
    "## Criando o banco vetorial\n",
    "\n",
    "vector_db = Chroma(\n",
    "    persist_directory=os.getenv(\"CHROMA_DIR\"),\n",
    "    embedding_function=embedding_model\n",
    ")"
   ]
  },
  {
   "cell_type": "code",
   "execution_count": 17,
   "id": "f70870f1",
   "metadata": {},
   "outputs": [
    {
     "name": "stdout",
     "output_type": "stream",
     "text": [
      "Inserindo: Counterexample-Guided Repair of Reinforcement Learning Systems Using Safety Critics\n",
      "Inserindo: Some Insights into Lifelong Reinforcement Learning Systems\n"
     ]
    }
   ],
   "source": [
    "for file in text_files:\n",
    "    loader = TextLoader(file.as_posix())\n",
    "\n",
    "    splitter = RecursiveCharacterTextSplitter(\n",
    "        chunk_size=500,\n",
    "        chunk_overlap=100\n",
    "    )\n",
    "\n",
    "    data = loader.load_and_split(text_splitter=splitter)\n",
    "\n",
    "    print(f\"Inserindo: {file.stem}\")\n",
    "\n",
    "    vector_db.add_documents(documents=data)"
   ]
  },
  {
   "cell_type": "code",
   "execution_count": 29,
   "id": "1c13e063",
   "metadata": {},
   "outputs": [],
   "source": [
    "from langchain_google_genai import ChatGoogleGenerativeAI\n",
    "from langchain.chains import RetrievalQA\n"
   ]
  },
  {
   "cell_type": "code",
   "execution_count": 30,
   "id": "c1fda32f",
   "metadata": {},
   "outputs": [],
   "source": [
    "llm = ChatGoogleGenerativeAI(\n",
    "    model = \"gemini-1.5-flash\",\n",
    "    google_api_key = config[\"GOOGLE_API_KEY\"],\n",
    "    temperature = 0.3\n",
    ")"
   ]
  },
  {
   "cell_type": "code",
   "execution_count": 27,
   "id": "03ee896d",
   "metadata": {},
   "outputs": [],
   "source": [
    "retriever = vector_db.as_retriever(search_kwargs = {\"k\":3})"
   ]
  },
  {
   "cell_type": "code",
   "execution_count": 31,
   "id": "6afb6067",
   "metadata": {},
   "outputs": [],
   "source": [
    "qa_chain = RetrievalQA.from_chain_type(\n",
    "    llm=llm,\n",
    "    chain_type = \"stuff\",\n",
    "    retriever = retriever\n",
    ")"
   ]
  },
  {
   "cell_type": "code",
   "execution_count": null,
   "id": "ad8ccb70",
   "metadata": {},
   "outputs": [],
   "source": []
  }
 ],
 "metadata": {
  "kernelspec": {
   "display_name": "venv (3.12.11)",
   "language": "python",
   "name": "python3"
  },
  "language_info": {
   "codemirror_mode": {
    "name": "ipython",
    "version": 3
   },
   "file_extension": ".py",
   "mimetype": "text/x-python",
   "name": "python",
   "nbconvert_exporter": "python",
   "pygments_lexer": "ipython3",
   "version": "3.12.11"
  }
 },
 "nbformat": 4,
 "nbformat_minor": 5
}
